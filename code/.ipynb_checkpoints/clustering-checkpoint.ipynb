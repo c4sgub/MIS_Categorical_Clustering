{
 "cells": [
  {
   "cell_type": "code",
   "execution_count": 1,
   "metadata": {},
   "outputs": [],
   "source": [
    "# imports \n",
    "\n",
    "import random\n",
    "import math \n",
    "import numpy as np \n",
    "import pandas as pd \n",
    "from tqdm import tqdm\n",
    "\n",
    "import matplotlib.pyplot as plt\n",
    "from scipy.stats import entropy\n",
    "from sklearn.preprocessing import normalize\n",
    "from sklearn.metrics.cluster import contingency_matrix\n",
    "from sklearn.metrics.cluster import normalized_mutual_info_score, adjusted_mutual_info_score, adjusted_rand_score\n",
    "from collections import defaultdict\n",
    "from math import comb\n",
    "\n",
    "# import dataset\n",
    "import utils\n",
    "from dataset import *\n",
    "from IPython.display import display, HTML\n",
    "\n",
    "random.seed(10)"
   ]
  },
  {
   "cell_type": "markdown",
   "metadata": {},
   "source": [
    "### UCI Datasets\n",
    "    0. zoo\n",
    "    1. votes \n",
    "    2. breast cancer\n",
    "    3. mushroom\n",
    "    4. balance scale \n",
    "    5. chess"
   ]
  },
  {
   "cell_type": "code",
   "execution_count": 2,
   "metadata": {},
   "outputs": [],
   "source": [
    "# list of datasets\n",
    "datasets = get_datasets()"
   ]
  },
  {
   "cell_type": "markdown",
   "metadata": {},
   "source": [
    "### Attribute based clustering "
   ]
  },
  {
   "cell_type": "markdown",
   "metadata": {},
   "source": [
    "### Zoo"
   ]
  },
  {
   "cell_type": "code",
   "execution_count": 3,
   "metadata": {
    "scrolled": true
   },
   "outputs": [
    {
     "name": "stdout",
     "output_type": "stream",
     "text": [
      "Epoch# 0 \n",
      "\t Fraction of obj choosen101/41\n",
      "Epoch# 1 \n",
      "\t Fraction of obj choosen60/20\n",
      "Epoch# 2 \n",
      "\t Fraction of obj choosen40/22\n",
      "Epoch# 3 \n",
      "\t Fraction of obj choosen18/7\n",
      "Epoch# 4 \n",
      "\t Fraction of obj choosen11/1\n",
      "Epoch# 5 \n",
      "\t Fraction of obj choosen10/4\n",
      "Epoch# 6\n"
     ]
    }
   ],
   "source": [
    "data = datasets[0].iloc[:,1:-1]\n",
    "true_labels = datasets[0]['class']\n",
    "K = 7\n",
    "clusters, pred_labels, attributes, categories = utils.clustering(data, K)"
   ]
  },
  {
   "cell_type": "code",
   "execution_count": 4,
   "metadata": {},
   "outputs": [
    {
     "name": "stdout",
     "output_type": "stream",
     "text": [
      "Purity:0.8910891089108911\n"
     ]
    },
    {
     "data": {
      "image/png": "[encoded data removed]",
      "text/plain": [
       "<Figure size 360x360 with 2 Axes>"
      ]
     },
     "metadata": {
      "needs_background": "light"
     },
     "output_type": "display_data"
    }
   ],
   "source": [
    "a = pd.crosstab(pred_labels, true_labels)\n",
    "acc = a.max(axis=1).sum()/pred_labels.shape[0] # acc\n",
    "print('Purity:{}'.format(acc))\n",
    "fig, ax = plt.subplots(figsize=(5, 5))\n",
    "im = utils.plot_contingency_matrix(a, np.unique(pred_labels), np.unique(true_labels), ax=ax,\n",
    "                   cmap=\"YlOrRd\")\n",
    "texts = utils.annotate_heatmap(im, valfmt=\"{x:.2f}\")\n",
    "fig.tight_layout()\n",
    "plt.colorbar(im,fraction=0.046, pad=0.04)\n",
    "plt.show()"
   ]
  },
  {
   "cell_type": "markdown",
   "metadata": {},
   "source": [
    "### Votes"
   ]
  },
  {
   "cell_type": "code",
   "execution_count": 6,
   "metadata": {
    "scrolled": true
   },
   "outputs": [
    {
     "name": "stdout",
     "output_type": "stream",
     "text": [
      "Epoch# 0 \n",
      "\t Fraction of obj choosen435/208\n",
      "Epoch# 1\n"
     ]
    }
   ],
   "source": [
    "data = datasets[1].iloc[:,1:]\n",
    "true_labels = datasets[1]['class']\n",
    "K = 2\n",
    "clusters, pred_labels, attributes, categories = utils.clustering(data, K)"
   ]
  },
  {
   "cell_type": "code",
   "execution_count": 9,
   "metadata": {},
   "outputs": [
    {
     "name": "stdout",
     "output_type": "stream",
     "text": [
      "Purity:0.8275862068965517\n"
     ]
    },
    {
     "data": {
      "image/png": "[encoded data removed]",
      "text/plain": [
       "<Figure size 144x144 with 2 Axes>"
      ]
     },
     "metadata": {
      "needs_background": "light"
     },
     "output_type": "display_data"
    }
   ],
   "source": [
    "a = pd.crosstab(pred_labels, true_labels)\n",
    "acc = a.max(axis=1).sum()/pred_labels.shape[0] # acc\n",
    "print('Purity:{}'.format(acc))\n",
    "fig, ax = plt.subplots(figsize=(2, 2))\n",
    "im = utils.plot_contingency_matrix(a, np.unique(pred_labels), np.unique(true_labels), ax=ax,\n",
    "                   cmap=\"YlOrRd\")\n",
    "texts = utils.annotate_heatmap(im, valfmt=\"{x:.2f}\")\n",
    "fig.tight_layout()\n",
    "plt.colorbar(im,fraction=0.046, pad=0.04)\n",
    "plt.show()"
   ]
  },
  {
   "cell_type": "markdown",
   "metadata": {},
   "source": [
    "### Cancer"
   ]
  },
  {
   "cell_type": "code",
   "execution_count": 10,
   "metadata": {
    "scrolled": true
   },
   "outputs": [
    {
     "name": "stdout",
     "output_type": "stream",
     "text": [
      "Epoch# 0 \n",
      "\t Fraction of obj choosen699/384\n",
      "Epoch# 1\n"
     ]
    }
   ],
   "source": [
    "data = datasets[2].iloc[:, 1:-1]\n",
    "true_labels = datasets[2]['class']\n",
    "K = 2\n",
    "clusters, pred_labels, attributes, categories = utils.clustering(data, K)"
   ]
  },
  {
   "cell_type": "code",
   "execution_count": 11,
   "metadata": {},
   "outputs": [
    {
     "name": "stdout",
     "output_type": "stream",
     "text": [
      "Purity:0.882689556509299\n"
     ]
    },
    {
     "data": {
      "image/png": "[encoded data removed]",
      "text/plain": [
       "<Figure size 144x144 with 2 Axes>"
      ]
     },
     "metadata": {
      "needs_background": "light"
     },
     "output_type": "display_data"
    }
   ],
   "source": [
    "a = pd.crosstab(pred_labels, true_labels)\n",
    "acc = a.max(axis=1).sum()/pred_labels.shape[0] # acc\n",
    "print('Purity:{}'.format(acc))\n",
    "fig, ax = plt.subplots(figsize=(2, 2))\n",
    "im = utils.plot_contingency_matrix(a, np.unique(pred_labels), np.unique(true_labels), ax=ax,\n",
    "                   cmap=\"YlOrRd\")\n",
    "texts = utils.annotate_heatmap(im, valfmt=\"{x:.2f}\")\n",
    "fig.tight_layout()\n",
    "plt.colorbar(im,fraction=0.046, pad=0.04)\n",
    "plt.show()"
   ]
  },
  {
   "cell_type": "markdown",
   "metadata": {},
   "source": [
    "### Mushroom"
   ]
  },
  {
   "cell_type": "code",
   "execution_count": 12,
   "metadata": {
    "scrolled": true
   },
   "outputs": [
    {
     "name": "stdout",
     "output_type": "stream",
     "text": [
      "Epoch# 0 \n",
      "\t Fraction of obj choosen8124/3376\n",
      "Epoch# 1\n"
     ]
    }
   ],
   "source": [
    "data = datasets[3].iloc[:, 1:-1]\n",
    "true_labels = datasets[3]['class']\n",
    "K = 2\n",
    "clusters, pred_labels, attributes, categories = utils.clustering(data, 2)"
   ]
  },
  {
   "cell_type": "code",
   "execution_count": 13,
   "metadata": {},
   "outputs": [
    {
     "name": "stdout",
     "output_type": "stream",
     "text": [
      "Purity:0.7439684884293452\n"
     ]
    },
    {
     "data": {
      "image/png": "[encoded data removed]",
      "text/plain": [
       "<Figure size 144x144 with 2 Axes>"
      ]
     },
     "metadata": {
      "needs_background": "light"
     },
     "output_type": "display_data"
    }
   ],
   "source": [
    "a = pd.crosstab(pred_labels, true_labels)\n",
    "acc = a.max(axis=1).sum()/pred_labels.shape[0] # acc\n",
    "print('Purity:{}'.format(acc))\n",
    "fig, ax = plt.subplots(figsize=(2, 2))\n",
    "im = utils.plot_contingency_matrix(a, np.unique(pred_labels), np.unique(true_labels), ax=ax,\n",
    "                   cmap=\"YlOrRd\")\n",
    "texts = utils.annotate_heatmap(im, valfmt=\"{x:.2f}\")\n",
    "fig.tight_layout()\n",
    "plt.colorbar(im,fraction=0.046, pad=0.04)\n",
    "plt.show()"
   ]
  },
  {
   "cell_type": "markdown",
   "metadata": {},
   "source": [
    "### Balance "
   ]
  },
  {
   "cell_type": "code",
   "execution_count": 16,
   "metadata": {
    "scrolled": true
   },
   "outputs": [
    {
     "name": "stdout",
     "output_type": "stream",
     "text": [
      "Epoch# 0 \n",
      "\t Fraction of obj choosen625/125\n",
      "Epoch# 1 \n",
      "\t Fraction of obj choosen500/125\n",
      "Epoch# 2\n"
     ]
    }
   ],
   "source": [
    "data = datasets[4].iloc[:, 1:]\n",
    "true_labels = datasets[4]['class']\n",
    "K = 3\n",
    "clusters, pred_labels, attributes, categories = utils.clustering(data, K)"
   ]
  },
  {
   "cell_type": "code",
   "execution_count": 18,
   "metadata": {},
   "outputs": [
    {
     "name": "stdout",
     "output_type": "stream",
     "text": [
      "Purity:0.6352\n"
     ]
    },
    {
     "data": {
      "image/png": "[encoded data removed]",
      "text/plain": [
       "<Figure size 216x216 with 2 Axes>"
      ]
     },
     "metadata": {
      "needs_background": "light"
     },
     "output_type": "display_data"
    }
   ],
   "source": [
    "a = pd.crosstab(pred_labels, true_labels)\n",
    "acc = a.max(axis=1).sum()/pred_labels.shape[0] # acc\n",
    "print('Purity:{}'.format(acc))\n",
    "fig, ax = plt.subplots(figsize=(3, 3))\n",
    "im = utils.plot_contingency_matrix(a, np.unique(pred_labels), np.unique(true_labels), ax=ax,\n",
    "                   cmap=\"YlOrRd\")\n",
    "texts = utils.annotate_heatmap(im, valfmt=\"{x:.2f}\")\n",
    "fig.tight_layout()\n",
    "plt.colorbar(im,fraction=0.046, pad=0.04)\n",
    "plt.show()"
   ]
  },
  {
   "cell_type": "markdown",
   "metadata": {},
   "source": [
    "### Chess"
   ]
  },
  {
   "cell_type": "code",
   "execution_count": 20,
   "metadata": {},
   "outputs": [
    {
     "name": "stdout",
     "output_type": "stream",
     "text": [
      "Epoch# 0 \n",
      "\t Fraction of obj choosen3196/1817\n",
      "Epoch# 1\n"
     ]
    }
   ],
   "source": [
    "data = datasets[6].iloc[:, :-1]\n",
    "true_labels = datasets[6]['class']\n",
    "K = 2\n",
    "clusters, pred_labels, attributes, categories = utils.clustering(data, K)"
   ]
  },
  {
   "cell_type": "code",
   "execution_count": 22,
   "metadata": {},
   "outputs": [
    {
     "name": "stdout",
     "output_type": "stream",
     "text": [
      "Purity:0.5306633291614519\n"
     ]
    },
    {
     "data": {
      "image/png": "[encoded data removed]",
      "text/plain": [
       "<Figure size 144x144 with 2 Axes>"
      ]
     },
     "metadata": {
      "needs_background": "light"
     },
     "output_type": "display_data"
    }
   ],
   "source": [
    "a = pd.crosstab(pred_labels, true_labels)\n",
    "acc = a.max(axis=1).sum()/pred_labels.shape[0] # acc\n",
    "print('Purity:{}'.format(acc))\n",
    "fig, ax = plt.subplots(figsize=(2, 2))\n",
    "im = utils.plot_contingency_matrix(a, np.unique(pred_labels), np.unique(true_labels), ax=ax,\n",
    "                   cmap=\"YlOrRd\")\n",
    "texts = utils.annotate_heatmap(im, valfmt=\"{x:.2f}\")\n",
    "fig.tight_layout()\n",
    "plt.colorbar(im,fraction=0.046, pad=0.04)\n",
    "plt.show()"
   ]
  },
  {
   "cell_type": "markdown",
   "metadata": {},
   "source": [
    "### Soybean "
   ]
  },
  {
   "cell_type": "code",
   "execution_count": 25,
   "metadata": {},
   "outputs": [
    {
     "name": "stdout",
     "output_type": "stream",
     "text": [
      "Epoch# 0 \n",
      "\t Fraction of obj choosen47/27\n",
      "Epoch# 1 \n",
      "\t Fraction of obj choosen20/10\n",
      "Epoch# 2 \n",
      "\t Fraction of obj choosen10/5\n",
      "Epoch# 3\n"
     ]
    }
   ],
   "source": [
    "data = datasets[-1].iloc[:, :-1]\n",
    "true_labels = datasets[-1]['class']\n",
    "K = 4\n",
    "clusters, pred_labels, attributes, categories = utils.clustering(data, K)"
   ]
  },
  {
   "cell_type": "code",
   "execution_count": 27,
   "metadata": {},
   "outputs": [
    {
     "name": "stdout",
     "output_type": "stream",
     "text": [
      "Purity:0.7872340425531915\n"
     ]
    },
    {
     "data": {
      "image/png": "[encoded data removed]",
      "text/plain": [
       "<Figure size 216x216 with 2 Axes>"
      ]
     },
     "metadata": {
      "needs_background": "light"
     },
     "output_type": "display_data"
    }
   ],
   "source": [
    "a = pd.crosstab(pred_labels, true_labels)\n",
    "acc = a.max(axis=1).sum()/pred_labels.shape[0] # acc\n",
    "print('Purity:{}'.format(acc))\n",
    "fig, ax = plt.subplots(figsize=(3, 3))\n",
    "im = utils.plot_contingency_matrix(a, np.unique(pred_labels), np.unique(true_labels), ax=ax,\n",
    "                   cmap=\"YlOrRd\")\n",
    "texts = utils.annotate_heatmap(im, valfmt=\"{x:.2f}\")\n",
    "fig.tight_layout()\n",
    "plt.colorbar(im,fraction=0.046, pad=0.04)\n",
    "plt.show()"
   ]
  }
 ],
 "metadata": {
  "kernelspec": {
   "display_name": "Python 3",
   "language": "python",
   "name": "python3"
  },
  "language_info": {
   "codemirror_mode": {
    "name": "ipython",
    "version": 3
   },
   "file_extension": ".py",
   "mimetype": "text/x-python",
   "name": "python",
   "nbconvert_exporter": "python",
   "pygments_lexer": "ipython3",
   "version": "3.8.3"
  }
 },
 "nbformat": 4,
 "nbformat_minor": 4
}
